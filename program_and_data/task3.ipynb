{
 "cells": [
  {
   "cell_type": "markdown",
   "metadata": {},
   "source": [
    "任务一、分析各销售机商品销售数据，总结规律，给出每台销售机饮料类商品的标签。"
   ]
  },
  {
   "cell_type": "code",
   "execution_count": 1,
   "metadata": {},
   "outputs": [],
   "source": [
    "import numpy as np\n",
    "import pandas as pd"
   ]
  },
  {
   "cell_type": "code",
   "execution_count": 2,
   "metadata": {},
   "outputs": [],
   "source": [
    "order_A = pd.read_csv('task1-1A.csv',encoding = 'gbk')\n",
    "category = pd.read_csv('data_2.csv',encoding = 'gbk')"
   ]
  },
  {
   "cell_type": "code",
   "execution_count": 3,
   "metadata": {},
   "outputs": [
    {
     "data": {
      "text/html": [
       "<div>\n",
       "<style scoped>\n",
       "    .dataframe tbody tr th:only-of-type {\n",
       "        vertical-align: middle;\n",
       "    }\n",
       "\n",
       "    .dataframe tbody tr th {\n",
       "        vertical-align: top;\n",
       "    }\n",
       "\n",
       "    .dataframe thead th {\n",
       "        text-align: right;\n",
       "    }\n",
       "</style>\n",
       "<table border=\"1\" class=\"dataframe\">\n",
       "  <thead>\n",
       "    <tr style=\"text-align: right;\">\n",
       "      <th></th>\n",
       "      <th>订单号</th>\n",
       "      <th>设备ID</th>\n",
       "      <th>应付金额</th>\n",
       "      <th>实际金额</th>\n",
       "      <th>商品</th>\n",
       "      <th>支付时间</th>\n",
       "      <th>地点</th>\n",
       "      <th>状态</th>\n",
       "      <th>提现</th>\n",
       "      <th>大类</th>\n",
       "      <th>二级类</th>\n",
       "    </tr>\n",
       "  </thead>\n",
       "  <tbody>\n",
       "    <tr>\n",
       "      <th>228</th>\n",
       "      <td>DD201708167493683503095993712</td>\n",
       "      <td>E43A6E078A04172</td>\n",
       "      <td>3.0</td>\n",
       "      <td>3.0</td>\n",
       "      <td>250ml维他柠檬茶</td>\n",
       "      <td>2017/1/1 19:55</td>\n",
       "      <td>A</td>\n",
       "      <td>已出货未退款</td>\n",
       "      <td>已提现</td>\n",
       "      <td>饮料</td>\n",
       "      <td>茶饮料</td>\n",
       "    </tr>\n",
       "    <tr>\n",
       "      <th>229</th>\n",
       "      <td>DD201708167493507701935975302</td>\n",
       "      <td>E43A6E078A04172</td>\n",
       "      <td>3.0</td>\n",
       "      <td>3.0</td>\n",
       "      <td>250ml维他柠檬茶</td>\n",
       "      <td>2017/1/1 20:25</td>\n",
       "      <td>A</td>\n",
       "      <td>已出货未退款</td>\n",
       "      <td>已提现</td>\n",
       "      <td>饮料</td>\n",
       "      <td>茶饮料</td>\n",
       "    </tr>\n",
       "    <tr>\n",
       "      <th>230</th>\n",
       "      <td>DD201708167493662547010881037</td>\n",
       "      <td>E43A6E078A04172</td>\n",
       "      <td>3.0</td>\n",
       "      <td>3.0</td>\n",
       "      <td>250ml维他柠檬茶</td>\n",
       "      <td>2017/1/3 9:50</td>\n",
       "      <td>A</td>\n",
       "      <td>已出货未退款</td>\n",
       "      <td>已提现</td>\n",
       "      <td>饮料</td>\n",
       "      <td>茶饮料</td>\n",
       "    </tr>\n",
       "    <tr>\n",
       "      <th>231</th>\n",
       "      <td>DD20170816749300338025192860536</td>\n",
       "      <td>E43A6E078A04172</td>\n",
       "      <td>6.0</td>\n",
       "      <td>6.0</td>\n",
       "      <td>250ml维他柠檬茶</td>\n",
       "      <td>2017/1/4 0:29</td>\n",
       "      <td>A</td>\n",
       "      <td>已出货未退款</td>\n",
       "      <td>已提现</td>\n",
       "      <td>饮料</td>\n",
       "      <td>茶饮料</td>\n",
       "    </tr>\n",
       "    <tr>\n",
       "      <th>232</th>\n",
       "      <td>DD201708167493849176273799289</td>\n",
       "      <td>E43A6E078A04172</td>\n",
       "      <td>3.0</td>\n",
       "      <td>3.0</td>\n",
       "      <td>250ml维他柠檬茶</td>\n",
       "      <td>2017/1/8 21:06</td>\n",
       "      <td>A</td>\n",
       "      <td>已出货未退款</td>\n",
       "      <td>已提现</td>\n",
       "      <td>饮料</td>\n",
       "      <td>茶饮料</td>\n",
       "    </tr>\n",
       "  </tbody>\n",
       "</table>\n",
       "</div>"
      ],
      "text/plain": [
       "                                 订单号             设备ID  应付金额  实际金额          商品  \\\n",
       "228    DD201708167493683503095993712  E43A6E078A04172   3.0   3.0  250ml维他柠檬茶   \n",
       "229    DD201708167493507701935975302  E43A6E078A04172   3.0   3.0  250ml维他柠檬茶   \n",
       "230    DD201708167493662547010881037  E43A6E078A04172   3.0   3.0  250ml维他柠檬茶   \n",
       "231  DD20170816749300338025192860536  E43A6E078A04172   6.0   6.0  250ml维他柠檬茶   \n",
       "232    DD201708167493849176273799289  E43A6E078A04172   3.0   3.0  250ml维他柠檬茶   \n",
       "\n",
       "               支付时间 地点      状态   提现  大类  二级类  \n",
       "228  2017/1/1 19:55  A  已出货未退款  已提现  饮料  茶饮料  \n",
       "229  2017/1/1 20:25  A  已出货未退款  已提现  饮料  茶饮料  \n",
       "230   2017/1/3 9:50  A  已出货未退款  已提现  饮料  茶饮料  \n",
       "231   2017/1/4 0:29  A  已出货未退款  已提现  饮料  茶饮料  \n",
       "232  2017/1/8 21:06  A  已出货未退款  已提现  饮料  茶饮料  "
      ]
     },
     "execution_count": 3,
     "metadata": {},
     "output_type": "execute_result"
    }
   ],
   "source": [
    "#筛选饮料类商品\n",
    "order_A_cate = pd.merge(order_A,category)\n",
    "order_A_drink = order_A_cate[order_A_cate['大类'] == '饮料']\n",
    "order_A_drink.head()"
   ]
  },
  {
   "cell_type": "code",
   "execution_count": 4,
   "metadata": {},
   "outputs": [
    {
     "data": {
      "text/html": [
       "<div>\n",
       "<style scoped>\n",
       "    .dataframe tbody tr th:only-of-type {\n",
       "        vertical-align: middle;\n",
       "    }\n",
       "\n",
       "    .dataframe tbody tr th {\n",
       "        vertical-align: top;\n",
       "    }\n",
       "\n",
       "    .dataframe thead th {\n",
       "        text-align: right;\n",
       "    }\n",
       "</style>\n",
       "<table border=\"1\" class=\"dataframe\">\n",
       "  <thead>\n",
       "    <tr style=\"text-align: right;\">\n",
       "      <th></th>\n",
       "      <th>总销量</th>\n",
       "    </tr>\n",
       "    <tr>\n",
       "      <th>商品</th>\n",
       "      <th></th>\n",
       "    </tr>\n",
       "  </thead>\n",
       "  <tbody>\n",
       "    <tr>\n",
       "      <th>怡宝纯净水</th>\n",
       "      <td>531</td>\n",
       "    </tr>\n",
       "    <tr>\n",
       "      <th>东鹏特饮</th>\n",
       "      <td>448</td>\n",
       "    </tr>\n",
       "    <tr>\n",
       "      <th>阿萨姆奶茶</th>\n",
       "      <td>326</td>\n",
       "    </tr>\n",
       "    <tr>\n",
       "      <th>脉动</th>\n",
       "      <td>309</td>\n",
       "    </tr>\n",
       "    <tr>\n",
       "      <th>营养快线</th>\n",
       "      <td>255</td>\n",
       "    </tr>\n",
       "  </tbody>\n",
       "</table>\n",
       "</div>"
      ],
      "text/plain": [
       "       总销量\n",
       "商品        \n",
       "怡宝纯净水  531\n",
       "东鹏特饮   448\n",
       "阿萨姆奶茶  326\n",
       "脉动     309\n",
       "营养快线   255"
      ]
     },
     "execution_count": 4,
     "metadata": {},
     "output_type": "execute_result"
    }
   ],
   "source": [
    "group_order_A_drink = order_A_drink[['订单号','商品']].groupby(by = '商品')\n",
    "#将饮料商品按销量降序排列\n",
    "group_order_A_selling = group_order_A_drink.count().sort_values(by = '订单号',ascending = False)\n",
    "group_order_A_selling.columns = ['总销量']\n",
    "group_order_A_selling.head()"
   ]
  },
  {
   "cell_type": "code",
   "execution_count": 5,
   "metadata": {},
   "outputs": [
    {
     "name": "stdout",
     "output_type": "stream",
     "text": [
      "分类结果: [1 1 1 1 2 2 2 2 2 2 2 2 2 2 2 2 2 2 2 2 2 2 0 0 0 0 0 0 0 0 0 0 0 0 0 0 0\n",
      " 0 0 0 0 0 0 0 0 0 0 0 0 0 0 0 0 0 0 0 0 0 0 0 0 0 0 0 0 0 0 0 0 0 0 0 0 0\n",
      " 0 0 0 0 0 0 0 0 0 0 0 0 0 0 0 0 0 0 0 0 0 0 0 0 0 0 0 0 0 0 0 0 0 0 0 0 0\n",
      " 0]\n",
      "A销售机的热销/正常阈值点: 255\n",
      "A销售机的正常/滞销预置点: 78\n"
     ]
    }
   ],
   "source": [
    "#划分商品滞销/正常/热销，要根据商品在这台销售机的分布，是针对于在此销售机上各商品的相对而言\n",
    "#因此可将各商品依据在这台销售机的销量这一特征，看作是仅有一个特征的聚类，分为3类\n",
    "from sklearn.cluster import KMeans\n",
    "kmModel=KMeans(n_clusters=3)\n",
    "amounts_A = np.array(group_order_A_selling['总销量']).reshape(-1,1)\n",
    "kmModel=kmModel.fit(amounts_A)\n",
    "pTarget=kmModel.predict(amounts_A)\n",
    "print('分类结果:',pTarget)\n",
    "\n",
    "#找到销售机A的判别热销/正常/滞销的阈值点\n",
    "clabel = 0\n",
    "lv1_A = 0\n",
    "lv2_A = 0\n",
    "for k in range(len(pTarget)):\n",
    "    if k == 0:\n",
    "        continue\n",
    "    if pTarget[k] != pTarget[k-1]:\n",
    "        if clabel == 0:\n",
    "            lv1_A = amounts_A[k][0]\n",
    "            print('A销售机的热销/正常阈值点:',lv1_A)\n",
    "            clabel =  1\n",
    "        elif clabel == 1:\n",
    "            lv2_A = amounts_A[k][0]\n",
    "            print('A销售机的正常/滞销预置点:',lv2_A)"
   ]
  },
  {
   "cell_type": "code",
   "execution_count": 6,
   "metadata": {},
   "outputs": [
    {
     "name": "stderr",
     "output_type": "stream",
     "text": [
      "C:\\ProgramData\\Anaconda3\\lib\\site-packages\\ipykernel_launcher.py:4: SettingWithCopyWarning: \n",
      "A value is trying to be set on a copy of a slice from a DataFrame\n",
      "\n",
      "See the caveats in the documentation: http://pandas.pydata.org/pandas-docs/stable/indexing.html#indexing-view-versus-copy\n",
      "  after removing the cwd from sys.path.\n",
      "C:\\ProgramData\\Anaconda3\\lib\\site-packages\\ipykernel_launcher.py:6: SettingWithCopyWarning: \n",
      "A value is trying to be set on a copy of a slice from a DataFrame\n",
      "\n",
      "See the caveats in the documentation: http://pandas.pydata.org/pandas-docs/stable/indexing.html#indexing-view-versus-copy\n",
      "  \n",
      "C:\\ProgramData\\Anaconda3\\lib\\site-packages\\ipykernel_launcher.py:8: SettingWithCopyWarning: \n",
      "A value is trying to be set on a copy of a slice from a DataFrame\n",
      "\n",
      "See the caveats in the documentation: http://pandas.pydata.org/pandas-docs/stable/indexing.html#indexing-view-versus-copy\n",
      "  \n"
     ]
    }
   ],
   "source": [
    "group_order_A_selling['标签'] = '滞销'\n",
    "for k in range(len(group_order_A_selling)):\n",
    "    if group_order_A_selling['总销量'][k] > lv1_A:\n",
    "        group_order_A_selling['标签'][k] = '热销'\n",
    "    elif group_order_A_selling['总销量'][k] > lv2_A:\n",
    "        group_order_A_selling['标签'][k] = '正常'\n",
    "    else:\n",
    "        group_order_A_selling['标签'][k] = '滞销'"
   ]
  },
  {
   "cell_type": "code",
   "execution_count": 7,
   "metadata": {},
   "outputs": [],
   "source": [
    "#销售机A的标签\n",
    "A_labels = pd.DataFrame(np.arange(len(group_order_A_selling)) + 1,columns = ['序号'])\n",
    "A_labels['饮料类商品'] = group_order_A_selling.index\n",
    "A_labels['标签'] = group_order_A_selling['标签'].tolist()\n",
    "A_labels.to_csv('task3-1A.csv',index = False,encoding = 'gbk')"
   ]
  },
  {
   "cell_type": "code",
   "execution_count": 8,
   "metadata": {},
   "outputs": [
    {
     "data": {
      "text/html": [
       "<div>\n",
       "<style scoped>\n",
       "    .dataframe tbody tr th:only-of-type {\n",
       "        vertical-align: middle;\n",
       "    }\n",
       "\n",
       "    .dataframe tbody tr th {\n",
       "        vertical-align: top;\n",
       "    }\n",
       "\n",
       "    .dataframe thead th {\n",
       "        text-align: right;\n",
       "    }\n",
       "</style>\n",
       "<table border=\"1\" class=\"dataframe\">\n",
       "  <thead>\n",
       "    <tr style=\"text-align: right;\">\n",
       "      <th></th>\n",
       "      <th>序号</th>\n",
       "      <th>饮料类商品</th>\n",
       "      <th>标签</th>\n",
       "    </tr>\n",
       "  </thead>\n",
       "  <tbody>\n",
       "    <tr>\n",
       "      <th>0</th>\n",
       "      <td>1</td>\n",
       "      <td>怡宝纯净水</td>\n",
       "      <td>热销</td>\n",
       "    </tr>\n",
       "    <tr>\n",
       "      <th>1</th>\n",
       "      <td>2</td>\n",
       "      <td>东鹏特饮</td>\n",
       "      <td>热销</td>\n",
       "    </tr>\n",
       "    <tr>\n",
       "      <th>2</th>\n",
       "      <td>3</td>\n",
       "      <td>阿萨姆奶茶</td>\n",
       "      <td>热销</td>\n",
       "    </tr>\n",
       "    <tr>\n",
       "      <th>3</th>\n",
       "      <td>4</td>\n",
       "      <td>脉动</td>\n",
       "      <td>热销</td>\n",
       "    </tr>\n",
       "    <tr>\n",
       "      <th>4</th>\n",
       "      <td>5</td>\n",
       "      <td>营养快线</td>\n",
       "      <td>正常</td>\n",
       "    </tr>\n",
       "    <tr>\n",
       "      <th>5</th>\n",
       "      <td>6</td>\n",
       "      <td>统一冰红茶</td>\n",
       "      <td>正常</td>\n",
       "    </tr>\n",
       "    <tr>\n",
       "      <th>6</th>\n",
       "      <td>7</td>\n",
       "      <td>250ml维他柠檬茶</td>\n",
       "      <td>正常</td>\n",
       "    </tr>\n",
       "    <tr>\n",
       "      <th>7</th>\n",
       "      <td>8</td>\n",
       "      <td>250ml维他原味豆奶</td>\n",
       "      <td>正常</td>\n",
       "    </tr>\n",
       "    <tr>\n",
       "      <th>8</th>\n",
       "      <td>9</td>\n",
       "      <td>红牛</td>\n",
       "      <td>正常</td>\n",
       "    </tr>\n",
       "    <tr>\n",
       "      <th>9</th>\n",
       "      <td>10</td>\n",
       "      <td>统一绿茶</td>\n",
       "      <td>正常</td>\n",
       "    </tr>\n",
       "  </tbody>\n",
       "</table>\n",
       "</div>"
      ],
      "text/plain": [
       "   序号        饮料类商品  标签\n",
       "0   1        怡宝纯净水  热销\n",
       "1   2         东鹏特饮  热销\n",
       "2   3        阿萨姆奶茶  热销\n",
       "3   4           脉动  热销\n",
       "4   5         营养快线  正常\n",
       "5   6        统一冰红茶  正常\n",
       "6   7   250ml维他柠檬茶  正常\n",
       "7   8  250ml维他原味豆奶  正常\n",
       "8   9           红牛  正常\n",
       "9  10         统一绿茶  正常"
      ]
     },
     "execution_count": 8,
     "metadata": {},
     "output_type": "execute_result"
    }
   ],
   "source": [
    "A_labels.head(10)"
   ]
  },
  {
   "cell_type": "code",
   "execution_count": 9,
   "metadata": {},
   "outputs": [],
   "source": [
    "def create_labels(mac):\n",
    "    \"\"\"\n",
    "    输入：销售机台号：'A','B','C','D','E'\n",
    "    制作对应销售机标签\n",
    "    \"\"\"\n",
    "    print('绘制%c销售机的标签...'%mac)\n",
    "    category = pd.read_csv('data_2.csv',encoding = 'gbk')\n",
    "    exec_str = \"pd.read_csv('task1-1%c.csv',encoding = 'gbk')\"%mac\n",
    "    order = eval(exec_str)\n",
    "    order_cate = pd.merge(order,category)\n",
    "    order_drink = order_cate[order_cate['大类'] == '饮料']\n",
    "    group_order_drink = order_drink[['订单号','商品']].groupby(by = '商品')\n",
    "    group_order_selling = group_order_drink.count().sort_values(by = '订单号',ascending = False)\n",
    "    group_order_selling.columns = ['总销量']\n",
    "    \n",
    "    kmModel=KMeans(n_clusters=3)\n",
    "    amounts = np.array(group_order_selling['总销量']).reshape(-1,1)\n",
    "    kmModel=kmModel.fit(amounts)\n",
    "    pTarget=kmModel.predict(amounts)\n",
    "    \n",
    "    clabel = 0\n",
    "    lv1 = 0\n",
    "    lv2 = 0\n",
    "    for k in range(len(pTarget)):\n",
    "        if k == 0:\n",
    "            continue\n",
    "        if pTarget[k] != pTarget[k-1]:\n",
    "            if clabel == 0:\n",
    "                lv1 = amounts[k][0]\n",
    "                print('%c销售机的热销/正常阈值点:'%mac,lv1)\n",
    "                clabel =  1\n",
    "            elif clabel == 1:\n",
    "                lv2 = amounts[k][0]\n",
    "                print('%c销售机的正常/滞销预置点:'%mac,lv2)\n",
    "    group_order_selling['标签'] = '滞销'\n",
    "    for k in range(len(group_order_selling)):\n",
    "        if group_order_selling['总销量'][k] > lv1:\n",
    "            group_order_selling['标签'][k] = '热销'\n",
    "        elif group_order_selling['总销量'][k] > lv2:\n",
    "            group_order_selling['标签'][k] = '正常'\n",
    "        else:\n",
    "            group_order_selling['标签'][k] = '滞销'\n",
    "        \n",
    "    labels = pd.DataFrame(np.arange(len(group_order_selling)) + 1,columns = ['序号'])\n",
    "    labels['饮料类商品'] = group_order_selling.index\n",
    "    labels['标签'] = group_order_selling['标签'].tolist()\n",
    "    labels.to_csv('task3-1%c.csv'%mac,index = False,encoding = 'gbk')\n",
    "    print('%c销售机的标签绘制完成。'%mac)\n",
    "    print()\n",
    "    "
   ]
  },
  {
   "cell_type": "code",
   "execution_count": 10,
   "metadata": {},
   "outputs": [
    {
     "name": "stdout",
     "output_type": "stream",
     "text": [
      "绘制B销售机的标签...\n",
      "B销售机的热销/正常阈值点: 488\n",
      "B销售机的正常/滞销预置点: 139\n"
     ]
    },
    {
     "name": "stderr",
     "output_type": "stream",
     "text": [
      "C:\\ProgramData\\Anaconda3\\lib\\site-packages\\ipykernel_launcher.py:38: SettingWithCopyWarning: \n",
      "A value is trying to be set on a copy of a slice from a DataFrame\n",
      "\n",
      "See the caveats in the documentation: http://pandas.pydata.org/pandas-docs/stable/indexing.html#indexing-view-versus-copy\n",
      "C:\\ProgramData\\Anaconda3\\lib\\site-packages\\ipykernel_launcher.py:40: SettingWithCopyWarning: \n",
      "A value is trying to be set on a copy of a slice from a DataFrame\n",
      "\n",
      "See the caveats in the documentation: http://pandas.pydata.org/pandas-docs/stable/indexing.html#indexing-view-versus-copy\n",
      "C:\\ProgramData\\Anaconda3\\lib\\site-packages\\ipykernel_launcher.py:42: SettingWithCopyWarning: \n",
      "A value is trying to be set on a copy of a slice from a DataFrame\n",
      "\n",
      "See the caveats in the documentation: http://pandas.pydata.org/pandas-docs/stable/indexing.html#indexing-view-versus-copy\n"
     ]
    },
    {
     "name": "stdout",
     "output_type": "stream",
     "text": [
      "B销售机的标签绘制完成。\n",
      "\n"
     ]
    }
   ],
   "source": [
    "create_labels('B')"
   ]
  },
  {
   "cell_type": "code",
   "execution_count": 11,
   "metadata": {},
   "outputs": [
    {
     "name": "stdout",
     "output_type": "stream",
     "text": [
      "绘制A销售机的标签...\n",
      "A销售机的热销/正常阈值点: 255\n",
      "A销售机的正常/滞销预置点: 78\n"
     ]
    },
    {
     "name": "stderr",
     "output_type": "stream",
     "text": [
      "C:\\ProgramData\\Anaconda3\\lib\\site-packages\\ipykernel_launcher.py:38: SettingWithCopyWarning: \n",
      "A value is trying to be set on a copy of a slice from a DataFrame\n",
      "\n",
      "See the caveats in the documentation: http://pandas.pydata.org/pandas-docs/stable/indexing.html#indexing-view-versus-copy\n",
      "C:\\ProgramData\\Anaconda3\\lib\\site-packages\\ipykernel_launcher.py:40: SettingWithCopyWarning: \n",
      "A value is trying to be set on a copy of a slice from a DataFrame\n",
      "\n",
      "See the caveats in the documentation: http://pandas.pydata.org/pandas-docs/stable/indexing.html#indexing-view-versus-copy\n",
      "C:\\ProgramData\\Anaconda3\\lib\\site-packages\\ipykernel_launcher.py:42: SettingWithCopyWarning: \n",
      "A value is trying to be set on a copy of a slice from a DataFrame\n",
      "\n",
      "See the caveats in the documentation: http://pandas.pydata.org/pandas-docs/stable/indexing.html#indexing-view-versus-copy\n"
     ]
    },
    {
     "name": "stdout",
     "output_type": "stream",
     "text": [
      "A销售机的标签绘制完成。\n",
      "\n",
      "绘制B销售机的标签...\n",
      "B销售机的热销/正常阈值点: 488\n",
      "B销售机的正常/滞销预置点: 139\n",
      "B销售机的标签绘制完成。\n",
      "\n",
      "绘制C销售机的标签...\n",
      "C销售机的热销/正常阈值点: 525\n",
      "C销售机的正常/滞销预置点: 166\n",
      "C销售机的标签绘制完成。\n",
      "\n",
      "绘制D销售机的标签...\n",
      "D销售机的热销/正常阈值点: 188\n",
      "D销售机的正常/滞销预置点: 68\n",
      "D销售机的标签绘制完成。\n",
      "\n",
      "绘制E销售机的标签...\n",
      "E销售机的热销/正常阈值点: 996\n",
      "E销售机的正常/滞销预置点: 309\n",
      "E销售机的标签绘制完成。\n",
      "\n"
     ]
    }
   ],
   "source": [
    "machine = ['A','B','C','D','E']\n",
    "for k in machine:\n",
    "    create_labels(k)"
   ]
  },
  {
   "cell_type": "markdown",
   "metadata": {},
   "source": [
    "任务二、在任务一的基础上进行标签拓展，依据标签生成完整的销售机图像。"
   ]
  },
  {
   "cell_type": "code",
   "execution_count": 12,
   "metadata": {},
   "outputs": [],
   "source": [
    "import jieba\n",
    "from wordcloud import WordCloud\n",
    "from PIL import Image\n",
    "import numpy as np\n",
    "import matplotlib.pyplot as plt"
   ]
  },
  {
   "cell_type": "code",
   "execution_count": 41,
   "metadata": {},
   "outputs": [],
   "source": [
    "def create_port(mac):\n",
    "    print('绘制销售机%c的画像...'%mac)\n",
    "    label = eval(\"pd.read_csv('task3-1%c.csv',encoding = 'gbk')\"%mac)\n",
    "    #读取该销售机热销及正常销售的商品\n",
    "    proper_sell = label[label.标签.isin(['热销','正常'])]\n",
    "    proper_sell_drink = proper_sell['饮料类商品'].tolist()\n",
    "    f = open('normal_sell_%c.txt'%mac,'w')\n",
    "    for k in proper_sell_drink:\n",
    "        f.write(k+' ')\n",
    "    f.close()\n",
    "    #绘制关于该销售机非滞销销售商品的词云图\n",
    "    f = open('normal_sell_%c.txt'%mac,'r').read()\n",
    "    font = 'C:\\Windows\\Fonts\\FZSTK.TTF'\n",
    "    cut = jieba.cut(f)\n",
    "    cut_content = ' '.join(cut)\n",
    "    img = Image.open('o_002.jpg') # 以什么图片进行显示\n",
    "    img_array = np.array(img) # 将图片转换为数组\n",
    "    wc = WordCloud(\n",
    "        background_color='white',\n",
    "        mask=img_array, # 若没有该项，则生成默认图片\n",
    "        font_path=font # 中文分词必须有中文字体设置\n",
    "    )\n",
    "    wc.generate_from_text(cut_content) # 绘制图片\n",
    "    wc.to_file('task3-2%c.png'%mac) # 保存图片\n",
    "    print('销售机%c的画像绘制完成。'%mac)\n",
    "    print()"
   ]
  },
  {
   "cell_type": "code",
   "execution_count": 42,
   "metadata": {},
   "outputs": [
    {
     "name": "stdout",
     "output_type": "stream",
     "text": [
      "绘制销售机A的画像...\n",
      "销售机A的画像绘制完成。\n",
      "\n",
      "绘制销售机B的画像...\n",
      "销售机B的画像绘制完成。\n",
      "\n",
      "绘制销售机C的画像...\n",
      "销售机C的画像绘制完成。\n",
      "\n",
      "绘制销售机D的画像...\n",
      "销售机D的画像绘制完成。\n",
      "\n",
      "绘制销售机E的画像...\n",
      "销售机E的画像绘制完成。\n",
      "\n"
     ]
    }
   ],
   "source": [
    "mac_lists = ['A','B','C','D','E']\n",
    "for mac in mac_lists:\n",
    "    create_port(mac)"
   ]
  },
  {
   "cell_type": "code",
   "execution_count": null,
   "metadata": {},
   "outputs": [],
   "source": []
  }
 ],
 "metadata": {
  "kernelspec": {
   "display_name": "Python 3",
   "language": "python",
   "name": "python3"
  },
  "language_info": {
   "codemirror_mode": {
    "name": "ipython",
    "version": 3
   },
   "file_extension": ".py",
   "mimetype": "text/x-python",
   "name": "python",
   "nbconvert_exporter": "python",
   "pygments_lexer": "ipython3",
   "version": "3.6.5"
  }
 },
 "nbformat": 4,
 "nbformat_minor": 2
}
